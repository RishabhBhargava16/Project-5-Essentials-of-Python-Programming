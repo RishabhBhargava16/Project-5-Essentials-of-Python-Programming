{
 "cells": [
  {
   "cell_type": "markdown",
   "metadata": {},
   "source": [
    "<b>This project 5 is presented by Rishabh Bhargava, a Data Science Intern at AINE AI</b>\n",
    "\n",
    "<b> From November 2021 batch<b>\n",
    "\n",
    "<u> **TASK 5:**<u>\n",
    "    \n",
    "Project 5: Essentials of Python Programming\n",
    "\n",
    "<u><b>Objective:</b><u>\n",
    "    \n",
    "Developing ‘Rock, Paper and Scissors’ game using Python programming"
   ]
  },
  {
   "cell_type": "markdown",
   "metadata": {},
   "source": [
    "**Project 5: Essentials of Python Programming**"
   ]
  },
  {
   "cell_type": "markdown",
   "metadata": {},
   "source": [
    "<u> **Step 1. The RANDOM module is being imported** <U>"
   ]
  },
  {
   "cell_type": "code",
   "execution_count": 2,
   "metadata": {},
   "outputs": [],
   "source": [
    "import random"
   ]
  },
  {
   "cell_type": "markdown",
   "metadata": {},
   "source": [
    "Python generates random numbers which are stored in **random** module and can be imported using **import random**."
   ]
  },
  {
   "cell_type": "markdown",
   "metadata": {},
   "source": [
    "<U>**Step 2. Taking the player INPUT**<U>"
   ]
  },
  {
   "cell_type": "code",
   "execution_count": 11,
   "metadata": {},
   "outputs": [
    {
     "name": "stdin",
     "output_type": "stream",
     "text": [
      "Please select one (rock, paper, scissors): paper\n"
     ]
    }
   ],
   "source": [
    "Player1=input(\"Please select one (rock, paper, scissors):\") #\"=\" helps in the assignment of the values"
   ]
  },
  {
   "cell_type": "markdown",
   "metadata": {},
   "source": [
    "**Input** function is used to generate an input box which picks the values entered by the user which is further stored in a variable or in other words, are assigned to a variable"
   ]
  },
  {
   "cell_type": "markdown",
   "metadata": {},
   "source": [
    "<u>**Step 3. Making the computer to choose**<u>"
   ]
  },
  {
   "cell_type": "code",
   "execution_count": 13,
   "metadata": {},
   "outputs": [],
   "source": [
    "Choices= [\"rock\", \"paper\", \"scissors\"] #every option within [] comes under the list.\n",
    "Computer= random.choice(Possible_choices)#random module with choice function will pick random words from the \"list\""
   ]
  },
  {
   "cell_type": "markdown",
   "metadata": {},
   "source": [
    "<u>**Step 5. Concatenated function**<u>"
   ]
  },
  {
   "cell_type": "code",
   "execution_count": 14,
   "metadata": {},
   "outputs": [
    {
     "name": "stdout",
     "output_type": "stream",
     "text": [
      "scissors rock\n",
      "scissors paper\n",
      "paper rock\n",
      "rock scissors\n"
     ]
    }
   ],
   "source": [
    "a=\"rock\"\n",
    "b=\"paper\"\n",
    "c=\"scissors\"\n",
    "\n",
    "print(c+\" \"+a)\n",
    "print(c+\" \"+b)\n",
    "print(b+\" \"+a)\n",
    "print(a+\" \"+c)"
   ]
  },
  {
   "cell_type": "markdown",
   "metadata": {},
   "source": [
    "<u>**Step 6. Declaring the Winner**<u>"
   ]
  },
  {
   "cell_type": "code",
   "execution_count": 15,
   "metadata": {},
   "outputs": [
    {
     "name": "stdout",
     "output_type": "stream",
     "text": [
      "Paper covers rock! You win!\n"
     ]
    }
   ],
   "source": [
    "#various situations are takenm into consideration in order to determine the winner\n",
    "#Situation 1: If the player1 and the computer chooses the same option\n",
    "\n",
    "if Player1 == Computer:  #if function is used to pick situation on which decision needs to be taken.\n",
    "    print(f\"Both players selected {user_action}. It's a tie!\") #f function will include the variable into the string\n",
    "    \n",
    "\n",
    "#Situation 2: If the player1 chooses \"rock\" and the computer chooses \"scissors\"    \n",
    "elif Player1 == \"rock\":  #elif helps in checking and verifying if the situation is TRUE or FALSE\n",
    "    if Computer == \"scissors\":\n",
    "        print(\"Rock smashes scissors!\" + \"You win!\") #\"+\" sign is used to concatenate the two different statements\n",
    "    else:     #else function will look out for another situation in case the previously mentioned situation is not TRUE\n",
    "        print(\"Paper covers rock!\" + \"You lose.\")\n",
    "        \n",
    "        \n",
    "#Situation 3: If the player1 chooses \"paper\" and the computer chooses \"rock\"    \n",
    "elif Player1 == \"paper\": #\"==\" sign is a comparision operator, it returns TRUE if both the items are equal\n",
    "    if Computer == \"rock\":\n",
    "        print(\"Paper covers rock! You win!\")\n",
    "    else:\n",
    "        print(\"Scissors cuts paper! You lose.\")\n",
    "        \n",
    "        \n",
    "#Situation 4: If the player1 chooses \"scissors\" and the computer chooses \"paper\"        \n",
    "elif Player1 == \"scissors\":\n",
    "    if Computer == \"paper\":\n",
    "        print(\"Scissors cuts paper! You win!\")\n",
    "    else:\n",
    "        print(\"Rock smashes scissors! You lose.\")\n",
    "    "
   ]
  },
  {
   "cell_type": "markdown",
   "metadata": {},
   "source": [
    "<u>**The Whole Game:**<u>"
   ]
  },
  {
   "cell_type": "code",
   "execution_count": 10,
   "metadata": {},
   "outputs": [
    {
     "name": "stdin",
     "output_type": "stream",
     "text": [
      "Enter a choice (rock, paper, scissors):  rock\n"
     ]
    },
    {
     "name": "stdout",
     "output_type": "stream",
     "text": [
      "\n",
      "You chose rock, computer chose rock.\n",
      "\n",
      "Both players selected rock. It's a tie!\n"
     ]
    },
    {
     "name": "stdin",
     "output_type": "stream",
     "text": [
      "Play again? (y/n):  y\n",
      "Enter a choice (rock, paper, scissors):  paper\n"
     ]
    },
    {
     "name": "stdout",
     "output_type": "stream",
     "text": [
      "\n",
      "You chose paper, computer chose rock.\n",
      "\n",
      "Paper covers rock! You win!\n"
     ]
    },
    {
     "name": "stdin",
     "output_type": "stream",
     "text": [
      "Play again? (y/n):  n\n"
     ]
    }
   ],
   "source": [
    "import random\n",
    "\n",
    "while True:\n",
    "    Player1 = input(\"Enter a choice (rock, paper, scissors): \")\n",
    "    Choices = [\"rock\", \"paper\", \"scissors\"]\n",
    "    Computer = random.choice(Choices)\n",
    "    print(f\"\\nYou chose {Player1}, computer chose {Computer}.\\n\")\n",
    "\n",
    "    if Player1 == Computer:\n",
    "        print(f\"Both players selected {You}. It's a tie!\")\n",
    "    elif Player1 == \"rock\":\n",
    "        if Computer == \"scissors\":\n",
    "            print(\"Rock smashes scissors! You win!\")\n",
    "        else:\n",
    "            print(\"Paper covers rock! You lose.\")\n",
    "    elif Player1 == \"paper\":\n",
    "        if Computer == \"rock\":\n",
    "            print(\"Paper covers rock! You win!\")\n",
    "        else:\n",
    "            print(\"Scissors cuts paper! You lose.\")\n",
    "    elif Player1 == \"scissors\":\n",
    "        if Computer == \"paper\":\n",
    "            print(\"Scissors cuts paper! You win!\")\n",
    "        else:\n",
    "            print(\"Rock smashes scissors! You lose.\")\n",
    "\n",
    "    play_again = input(\"Play again? (y/n): \")\n",
    "    if play_again.lower() != \"y\":   #lower keyword will make any capital letter in lower case #\"!\" is a NOT logical operator in Python\n",
    "        break   # stopping the further execution of the loop"
   ]
  },
  {
   "cell_type": "code",
   "execution_count": null,
   "metadata": {},
   "outputs": [],
   "source": []
  }
 ],
 "metadata": {
  "kernelspec": {
   "display_name": "Python 3",
   "language": "python",
   "name": "python3"
  },
  "language_info": {
   "codemirror_mode": {
    "name": "ipython",
    "version": 3
   },
   "file_extension": ".py",
   "mimetype": "text/x-python",
   "name": "python",
   "nbconvert_exporter": "python",
   "pygments_lexer": "ipython3",
   "version": "3.8.5"
  }
 },
 "nbformat": 4,
 "nbformat_minor": 4
}
